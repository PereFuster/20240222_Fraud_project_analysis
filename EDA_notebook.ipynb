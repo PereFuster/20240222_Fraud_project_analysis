{
 "cells": [
  {
   "cell_type": "code",
   "execution_count": null,
   "metadata": {},
   "outputs": [],
   "source": []
  },
  {
   "cell_type": "markdown",
   "metadata": {},
   "source": [
    "# Load data"
   ]
  },
  {
   "cell_type": "code",
   "execution_count": null,
   "metadata": {},
   "outputs": [],
   "source": []
  },
  {
   "cell_type": "code",
   "execution_count": null,
   "metadata": {},
   "outputs": [],
   "source": []
  },
  {
   "cell_type": "code",
   "execution_count": null,
   "metadata": {},
   "outputs": [],
   "source": []
  },
  {
   "cell_type": "code",
   "execution_count": null,
   "metadata": {},
   "outputs": [],
   "source": []
  },
  {
   "cell_type": "markdown",
   "metadata": {},
   "source": [
    "# Exploratory data analysis"
   ]
  },
  {
   "cell_type": "code",
   "execution_count": null,
   "metadata": {},
   "outputs": [],
   "source": [
    "import pandas as pd\n",
    "import numpy as np\n",
    "import matplotlib.pyplot as plt\n",
    "import seaborn as sns\n",
    "\n",
    "# Load data\n",
    "# Assuming you have a DataFrame named 'data' containing the relevant information\n",
    "# Adjust the file path and column names as per your data structure\n",
    "\n",
    "# Example code for loading data:\n",
    "# data = pd.read_csv('your_data.csv')\n",
    "\n",
    "# Perform EDA\n",
    "# Count of disputes and disputers\n",
    "total_disputes = data['dispute'].sum()\n",
    "total_disputers = data['user_id'].nunique()\n",
    "dispute_rate_payments = total_disputes / data['payment_id'].nunique()\n",
    "dispute_rate_users = total_disputers / data['user_id'].nunique()\n",
    "\n",
    "# Total amount of disputes in USD\n",
    "total_dispute_amount_usd = data[data['dispute'] == 1]['amount_usd'].sum()\n",
    "total_amount_usd = data['amount_usd'].sum()\n",
    "usd_ratio = total_dispute_amount_usd / total_amount_usd\n",
    "\n",
    "# Visualize dispute rate on day 7, day 28, and day 60\n",
    "dispute_rate_by_day = data.groupby('day')['dispute'].mean().reset_index()\n",
    "sns.barplot(x='day', y='dispute', data=dispute_rate_by_day)\n",
    "plt.title('Dispute Rate by Day')\n",
    "plt.xlabel('Day')\n",
    "plt.ylabel('Dispute Rate')\n",
    "plt.show()"
   ]
  },
  {
   "cell_type": "code",
   "execution_count": null,
   "metadata": {},
   "outputs": [],
   "source": [
    "\n",
    "\n",
    "# Evolution over time\n",
    "# Assuming you have a column 'date' representing the date of each transaction\n",
    "data['date'] = pd.to_datetime(data['date'])\n",
    "data['date_month'] = data['date'].dt.to_period('M')\n",
    "evolution_disputes_over_time = data.groupby('date_month')['dispute'].mean().reset_index()\n",
    "plt.figure(figsize=(10, 6))\n",
    "sns.lineplot(x='date_month', y='dispute', data=evolution_disputes_over_time)\n",
    "plt.title('Evolution of Dispute Rate Over Time')\n",
    "plt.xlabel('Date')\n",
    "plt.ylabel('Dispute Rate')\n",
    "plt.xticks(rotation=45)\n",
    "plt.show()\n",
    "\n",
    "# Correlation analysis\n",
    "# Assuming all variables are already converted into binary or broken down into quantiles\n",
    "correlation_matrix = data.corr()\n",
    "plt.figure(figsize=(10, 8))\n",
    "sns.heatmap(correlation_matrix, annot=True, cmap='coolwarm')\n",
    "plt.title('Correlation Matrix')\n",
    "plt.show()\n",
    "\n",
    "# Calculate dispute rate across each dummy variable\n",
    "dummy_variables = ['dummy_var1', 'dummy_var2', ...]  # List of dummy variables\n",
    "dispute_rate_by_dummy = {}\n",
    "for var in dummy_variables:\n",
    "    dispute_rate_by_dummy[var] = data.groupby(var)['dispute'].mean()\n",
    "\n",
    "# Rank dummy variables by dispute rate\n",
    "sorted_dummy_vars = sorted(dispute_rate_by_dummy.items(), key=lambda x: x[1], reverse=True)\n",
    "print(\"Ranking of dummy variables by dispute rate:\")\n",
    "for var, dispute_rate in sorted_dummy_vars:\n",
    "    print(f\"{var}: {dispute_rate}\")\n",
    "\n",
    "# Time between payments and instalments\n",
    "# Calculate time differences between payment and instalment\n",
    "data['time_diff'] = (data['instalment_date'] - data['payment_date']).dt.days\n",
    "\n",
    "# Summary statistics and histogram\n",
    "print(\"Summary statistics of time differences:\")\n",
    "print(data['time_diff'].describe())\n",
    "plt.figure(figsize=(10, 6))\n",
    "sns.histplot(data['time_diff'], bins=20, kde=True)\n",
    "plt.title('Distribution of Time Differences')\n",
    "plt.xlabel('Time Difference (days)')\n",
    "plt.ylabel('Frequency')\n",
    "plt.show()\n"
   ]
  }
 ],
 "metadata": {
  "language_info": {
   "name": "python"
  }
 },
 "nbformat": 4,
 "nbformat_minor": 2
}
